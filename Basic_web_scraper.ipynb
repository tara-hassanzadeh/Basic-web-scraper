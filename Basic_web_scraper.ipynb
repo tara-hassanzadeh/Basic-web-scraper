{
  "nbformat": 4,
  "nbformat_minor": 0,
  "metadata": {
    "colab": {
      "provenance": [],
      "authorship_tag": "ABX9TyPr4O92KZioP6+p0LfjS1oS",
      "include_colab_link": true
    },
    "kernelspec": {
      "name": "python3",
      "display_name": "Python 3"
    },
    "language_info": {
      "name": "python"
    }
  },
  "cells": [
    {
      "cell_type": "markdown",
      "metadata": {
        "id": "view-in-github",
        "colab_type": "text"
      },
      "source": [
        "<a href=\"https://colab.research.google.com/github/tara-hassanzadeh/Basic-web-scraper/blob/main/Basic_web_scraper.ipynb\" target=\"_parent\"><img src=\"https://colab.research.google.com/assets/colab-badge.svg\" alt=\"Open In Colab\"/></a>"
      ]
    },
    {
      "cell_type": "markdown",
      "source": [
        "Basic web scraper"
      ],
      "metadata": {
        "id": "TsrAf3EHfHa1"
      }
    },
    {
      "cell_type": "code",
      "execution_count": 4,
      "metadata": {
        "colab": {
          "base_uri": "https://localhost:8080/"
        },
        "id": "RfynkiskfGOr",
        "outputId": "48df3abc-7712-49ac-867a-345dff124808"
      },
      "outputs": [
        {
          "output_type": "stream",
          "name": "stdout",
          "text": [
            "please enter your linkhttps://edition.cnn.com\n",
            "Headlines:\n",
            "- CNN values your feedback\n",
            "- Trump files lawsuit over Wall Street Journal report on Epstein letter\n",
            "- More top stories\n",
            "- Featured Sections\n",
            "- Space and Science\n",
            "- Global Travel\n",
            "- Global Business\n",
            "- Art and Style\n",
            "- Sports\n",
            "- US Politics\n",
            "- Health and Wellness\n",
            "- Tech\n",
            "- More from CNN\n",
            "- Call to Earth\n",
            "- In Case You Missed It\n"
          ]
        }
      ],
      "source": [
        "import requests\n",
        "from bs4 import BeautifulSoup\n",
        "url=input(\"please enter your link:\")\n",
        "headers={'User-Agent':'Mozilla/5.0'}\n",
        "response=requests.get(url,headers=headers)\n",
        "if response.status_code==200:\n",
        "  soup=BeautifulSoup(response.text,'html.parser')\n",
        "  headlines=soup.find_all(['h2','h3'])\n",
        "  print(\"Headlines:\")\n",
        "  for h in headlines:\n",
        "    text=h.get_text(strip=True)\n",
        "    if text:\n",
        "      print(\"-\",text)\n",
        "else:\n",
        "  print(\"Failed to retrieve the page.\", response.status_code)"
      ]
    }
  ]
}